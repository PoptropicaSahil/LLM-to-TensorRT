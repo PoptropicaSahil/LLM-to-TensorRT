{
 "cells": [
  {
   "cell_type": "markdown",
   "metadata": {},
   "source": [
    "# CONVERT ONNX MODELS TO TensorRT AND BENCHMARK\n",
    "Colab Notebook [Link](https://colab.research.google.com/drive/1hPajI-7neicbFXGCtNrPPDLkRb4JQgpb?usp=sharing)."
   ]
  },
  {
   "cell_type": "markdown",
   "metadata": {
    "id": "qBK7MzMAyb9Y"
   },
   "source": [
    "# IMPORTS"
   ]
  },
  {
   "cell_type": "code",
   "execution_count": 1,
   "metadata": {
    "colab": {
     "base_uri": "https://localhost:8080/"
    },
    "id": "cLpVY0AEypN8",
    "outputId": "159d81fb-e31e-41ff-ffe3-0d2773af32b3"
   },
   "outputs": [
    {
     "name": "stdout",
     "output_type": "stream",
     "text": [
      "Collecting onnx\n",
      "  Downloading onnx-1.17.0-cp310-cp310-manylinux_2_17_x86_64.manylinux2014_x86_64.whl.metadata (16 kB)\n",
      "Collecting tensorrt\n",
      "  Downloading tensorrt-10.6.0.tar.gz (16 kB)\n",
      "  Preparing metadata (setup.py) ... \u001b[?25l\u001b[?25hdone\n",
      "Collecting pycuda\n",
      "  Downloading pycuda-2024.1.2.tar.gz (1.7 MB)\n",
      "\u001b[2K     \u001b[90m━━━━━━━━━━━━━━━━━━━━━━━━━━━━━━━━━━━━━━━━\u001b[0m \u001b[32m1.7/1.7 MB\u001b[0m \u001b[31m20.8 MB/s\u001b[0m eta \u001b[36m0:00:00\u001b[0m\n",
      "\u001b[?25h  Installing build dependencies ... \u001b[?25l\u001b[?25hdone\n",
      "  Getting requirements to build wheel ... \u001b[?25l\u001b[?25hdone\n",
      "  Preparing metadata (pyproject.toml) ... \u001b[?25l\u001b[?25hdone\n",
      "Requirement already satisfied: numpy>=1.20 in /usr/local/lib/python3.10/dist-packages (from onnx) (1.26.4)\n",
      "Requirement already satisfied: protobuf>=3.20.2 in /usr/local/lib/python3.10/dist-packages (from onnx) (4.25.5)\n",
      "Collecting tensorrt-cu12==10.6.0 (from tensorrt)\n",
      "  Downloading tensorrt-cu12-10.6.0.tar.gz (18 kB)\n",
      "  Preparing metadata (setup.py) ... \u001b[?25l\u001b[?25hdone\n",
      "Collecting pytools>=2011.2 (from pycuda)\n",
      "  Downloading pytools-2024.1.15-py3-none-any.whl.metadata (2.9 kB)\n",
      "Requirement already satisfied: platformdirs>=2.2.0 in /usr/local/lib/python3.10/dist-packages (from pycuda) (4.3.6)\n",
      "Collecting mako (from pycuda)\n",
      "  Downloading Mako-1.3.6-py3-none-any.whl.metadata (2.9 kB)\n",
      "Requirement already satisfied: typing-extensions>=4 in /usr/local/lib/python3.10/dist-packages (from pytools>=2011.2->pycuda) (4.12.2)\n",
      "Requirement already satisfied: MarkupSafe>=0.9.2 in /usr/local/lib/python3.10/dist-packages (from mako->pycuda) (3.0.2)\n",
      "Downloading onnx-1.17.0-cp310-cp310-manylinux_2_17_x86_64.manylinux2014_x86_64.whl (16.0 MB)\n",
      "\u001b[2K   \u001b[90m━━━━━━━━━━━━━━━━━━━━━━━━━━━━━━━━━━━━━━━━\u001b[0m \u001b[32m16.0/16.0 MB\u001b[0m \u001b[31m87.7 MB/s\u001b[0m eta \u001b[36m0:00:00\u001b[0m\n",
      "\u001b[?25hDownloading pytools-2024.1.15-py3-none-any.whl (88 kB)\n",
      "\u001b[2K   \u001b[90m━━━━━━━━━━━━━━━━━━━━━━━━━━━━━━━━━━━━━━━━\u001b[0m \u001b[32m88.6/88.6 kB\u001b[0m \u001b[31m8.9 MB/s\u001b[0m eta \u001b[36m0:00:00\u001b[0m\n",
      "\u001b[?25hDownloading Mako-1.3.6-py3-none-any.whl (78 kB)\n",
      "\u001b[2K   \u001b[90m━━━━━━━━━━━━━━━━━━━━━━━━━━━━━━━━━━━━━━━━\u001b[0m \u001b[32m78.6/78.6 kB\u001b[0m \u001b[31m8.2 MB/s\u001b[0m eta \u001b[36m0:00:00\u001b[0m\n",
      "\u001b[?25hBuilding wheels for collected packages: tensorrt, tensorrt-cu12, pycuda\n",
      "  Building wheel for tensorrt (setup.py) ... \u001b[?25l\u001b[?25hdone\n",
      "  Created wheel for tensorrt: filename=tensorrt-10.6.0-py2.py3-none-any.whl size=16336 sha256=aa0f60a71f96efc548480964caad62214acec902efbc85c469c28e1a6b342506\n",
      "  Stored in directory: /root/.cache/pip/wheels/2a/97/95/8fdbe17369eed28ee9903523b94e130023ae58edcf1c904e5a\n",
      "  Building wheel for tensorrt-cu12 (setup.py) ... \u001b[?25l\u001b[?25hdone\n",
      "  Created wheel for tensorrt-cu12: filename=tensorrt_cu12-10.6.0-py2.py3-none-any.whl size=17549 sha256=c7bccebfd1a29deaa7fc5916ffa45aaed5075ce5d892417087bac08fb39aaae9\n",
      "  Stored in directory: /root/.cache/pip/wheels/78/db/ca/0e81d122890b48aaa016992e062a1eb16dc3d00ac546156517\n",
      "  Building wheel for pycuda (pyproject.toml) ... \u001b[?25l\u001b[?25hdone\n",
      "  Created wheel for pycuda: filename=pycuda-2024.1.2-cp310-cp310-linux_x86_64.whl size=660546 sha256=54827ec8e890bf59a43e65115acecb47e1c4d0826221f3fdb0b048ebbeea2ff2\n",
      "  Stored in directory: /root/.cache/pip/wheels/70/63/40/4bf006182f942d3516b71bb2ff3b57ccbdb8b2c0ee81882b6e\n",
      "Successfully built tensorrt tensorrt-cu12 pycuda\n",
      "Installing collected packages: tensorrt-cu12, pytools, onnx, mako, tensorrt, pycuda\n",
      "Successfully installed mako-1.3.6 onnx-1.17.0 pycuda-2024.1.2 pytools-2024.1.15 tensorrt-10.6.0 tensorrt-cu12-10.6.0\n"
     ]
    }
   ],
   "source": [
    "!pip install onnx tensorrt pycuda"
   ]
  },
  {
   "cell_type": "code",
   "execution_count": 2,
   "metadata": {
    "id": "sDWGCrgXz92D"
   },
   "outputs": [],
   "source": [
    "!pip install cuda-python>=12.2.0"
   ]
  },
  {
   "cell_type": "code",
   "execution_count": 3,
   "metadata": {
    "_cell_guid": "b1076dfc-b9ad-4769-8c92-a6c4dae69d19",
    "_uuid": "8f2839f25d086af736a60e9eeb907d3b93b6e0e5",
    "execution": {
     "iopub.execute_input": "2024-11-15T04:16:36.314128Z",
     "iopub.status.busy": "2024-11-15T04:16:36.31364Z",
     "iopub.status.idle": "2024-11-15T04:16:37.237507Z",
     "shell.execute_reply": "2024-11-15T04:16:37.236609Z",
     "shell.execute_reply.started": "2024-11-15T04:16:36.314082Z"
    },
    "id": "NK5n5xQtE_oC",
    "trusted": true
   },
   "outputs": [],
   "source": [
    "import numpy as np\n",
    "import pandas as pd\n",
    "import time\n",
    "import os\n",
    "\n",
    "# Torch imports\n",
    "import torch\n",
    "import torch.nn as nn\n",
    "import torch.optim as optim\n",
    "\n",
    "# Onnx imports\n",
    "import torch.onnx\n",
    "import onnx\n",
    "\n",
    "# TensorRT imports\n",
    "import tensorrt as trt\n",
    "from tensorrt import TensorIOMode # VERY USEFUL!\n",
    "\n",
    "# Needed for inference\n",
    "import pycuda.driver as cuda\n",
    "import pycuda.autoinit\n",
    "\n",
    "# Colab bug\n",
    "import locale\n",
    "locale.getpreferredencoding = lambda: \"UTF-8\""
   ]
  },
  {
   "cell_type": "code",
   "execution_count": 4,
   "metadata": {
    "execution": {
     "iopub.execute_input": "2024-11-15T04:16:37.240287Z",
     "iopub.status.busy": "2024-11-15T04:16:37.239877Z",
     "iopub.status.idle": "2024-11-15T04:16:40.480274Z",
     "shell.execute_reply": "2024-11-15T04:16:40.47931Z",
     "shell.execute_reply.started": "2024-11-15T04:16:37.240254Z"
    },
    "id": "9keniFwcE_oL",
    "trusted": true
   },
   "outputs": [],
   "source": [
    "DEVICE = 'cuda'"
   ]
  },
  {
   "cell_type": "markdown",
   "metadata": {
    "id": "21pfiXQ4zCP9"
   },
   "source": [
    "# Start with a Simple Network"
   ]
  },
  {
   "cell_type": "code",
   "execution_count": 6,
   "metadata": {
    "colab": {
     "base_uri": "https://localhost:8080/"
    },
    "id": "cGV4Fl7Pymd7",
    "outputId": "1da4566d-9b38-4d9c-e4ac-c1882a19ee35"
   },
   "outputs": [
    {
     "data": {
      "text/plain": [
       "SimpleNN(\n",
       "  (fc1): Linear(in_features=10, out_features=5, bias=True)\n",
       "  (relu): ReLU()\n",
       "  (fc2): Linear(in_features=5, out_features=1, bias=True)\n",
       ")"
      ]
     },
     "execution_count": 6,
     "metadata": {},
     "output_type": "execute_result"
    }
   ],
   "source": [
    "# Simple NN\n",
    "# TensorRT Gives upto 10x speedup\n",
    "class SimpleNN(nn.Module):\n",
    "    def __init__(self):\n",
    "        # super(SimpleNN, self).__init__()\n",
    "        super().__init__()\n",
    "        self.fc1 = nn.Linear(10, 5)\n",
    "        self.relu = nn.ReLU()\n",
    "        self.fc2 = nn.Linear(5, 1)\n",
    "\n",
    "    def forward(self, x):\n",
    "        x = self.fc1(x)\n",
    "        x = self.relu(x)\n",
    "        x = self.fc2(x)\n",
    "        return x\n",
    "\n",
    "\n",
    "small_model = SimpleNN()\n",
    "small_model.to(DEVICE)\n",
    "small_model"
   ]
  },
  {
   "cell_type": "code",
   "execution_count": 19,
   "metadata": {
    "colab": {
     "base_uri": "https://localhost:8080/"
    },
    "id": "3I5Nd2z2R2Eg",
    "outputId": "f53088d8-7de3-4ea3-a9dd-3e764af7ce48"
   },
   "outputs": [
    {
     "data": {
      "text/plain": [
       "DeepNN(\n",
       "  (model): Sequential(\n",
       "    (0): Linear(in_features=10, out_features=640, bias=True)\n",
       "    (1): ReLU()\n",
       "    (2): Dropout(p=0.5, inplace=False)\n",
       "    (3): Linear(in_features=640, out_features=1280, bias=True)\n",
       "    (4): ReLU()\n",
       "    (5): Dropout(p=0.5, inplace=False)\n",
       "    (6): Linear(in_features=1280, out_features=640, bias=True)\n",
       "    (7): ReLU()\n",
       "    (8): Linear(in_features=640, out_features=1, bias=True)\n",
       "  )\n",
       ")"
      ]
     },
     "execution_count": 19,
     "metadata": {},
     "output_type": "execute_result"
    }
   ],
   "source": [
    "# Slightly deeper model\n",
    "# TensorRT Gives upto 10x speedup too\n",
    "class DeepNN(nn.Module):\n",
    "    def __init__(self):\n",
    "        super().__init__()\n",
    "\n",
    "        # Slightly deeper model\n",
    "        self.model = nn.Sequential(\n",
    "            nn.Linear(10, 640),\n",
    "            nn.ReLU(),\n",
    "            nn.Dropout(0.5),\n",
    "\n",
    "            nn.Linear(640, 1280),\n",
    "            nn.ReLU(),\n",
    "            nn.Dropout(0.5),\n",
    "\n",
    "            nn.Linear(1280, 640),\n",
    "            nn.ReLU(),\n",
    "\n",
    "            nn.Linear(640, 1)\n",
    "        )\n",
    "\n",
    "    def forward(self, x):\n",
    "        return self.model(x)\n",
    "\n",
    "deep_model = DeepNN()\n",
    "deep_model.to(DEVICE)"
   ]
  },
  {
   "cell_type": "code",
   "execution_count": 22,
   "metadata": {
    "colab": {
     "base_uri": "https://localhost:8080/"
    },
    "id": "4EREQ38WS5at",
    "outputId": "a7d9679c-1fba-4e51-e659-91c0116653e6"
   },
   "outputs": [
    {
     "name": "stdout",
     "output_type": "stream",
     "text": [
      "hi!\n"
     ]
    }
   ],
   "source": [
    "# Trying to mimic a much larger model - have kept 32 layers with hidden size 2048\n",
    "# Creating the model engine takes much more time! About 2 minutes.\n",
    "# Still saw upto 5x speedups :)\n",
    "\n",
    "class SuperDeepNN(nn.Module):\n",
    "    def __init__(self):\n",
    "        super().__init__()\n",
    "\n",
    "        # Create a list of layers\n",
    "        layers = []\n",
    "        input_size = 10\n",
    "        hidden_size = 2048\n",
    "\n",
    "        # 32 linear layers\n",
    "        for i in range(32):\n",
    "            layers.append(nn.Linear(input_size, hidden_size))\n",
    "            layers.append(nn.ReLU())\n",
    "            layers.append(nn.Dropout(0.5))\n",
    "\n",
    "            input_size = hidden_size\n",
    "\n",
    "        layers.append(nn.Linear(hidden_size, 1))\n",
    "\n",
    "        # Combine all layers\n",
    "        self.model = nn.Sequential(*layers)\n",
    "\n",
    "    def forward(self, x):\n",
    "        return self.model(x)\n",
    "\n",
    "super_deep_model = SuperDeepNN()\n",
    "super_deep_model.to(DEVICE)\n",
    "print(f'hi!')"
   ]
  },
  {
   "cell_type": "markdown",
   "metadata": {
    "id": "OAdVKjJ41KIp"
   },
   "source": [
    "## Measure inference speed\n",
    "We check for a lot of iterations, for all the three models\n"
   ]
  },
  {
   "cell_type": "code",
   "execution_count": 15,
   "metadata": {
    "id": "N2oNwLhuQcBQ"
   },
   "outputs": [],
   "source": [
    "def check_fps(model):\n",
    "\n",
    "  num_iterations = 1000\n",
    "  total_time = 0.0\n",
    "  input_shape = (1, 10)\n",
    "\n",
    "  with torch.no_grad():\n",
    "      for i in range(num_iterations):\n",
    "          input_data = torch.randn(*input_shape).to(DEVICE)\n",
    "\n",
    "          tik = time.time()\n",
    "          output_data = model(input_data)\n",
    "          tok = time.time()\n",
    "\n",
    "          total_time += tok - tik\n",
    "\n",
    "  # Calculate frames per second (FPS)\n",
    "  pytorch_fps = num_iterations / total_time\n",
    "\n",
    "  # print(f\"PyTorch FPS: {pytorch_fps:.2f}\")\n",
    "\n",
    "  return pytorch_fps"
   ]
  },
  {
   "cell_type": "code",
   "execution_count": 58,
   "metadata": {
    "colab": {
     "base_uri": "https://localhost:8080/"
    },
    "id": "31WBBTM6Qj9v",
    "outputId": "86992cc6-cf80-4e86-e00c-b29c99406f5b"
   },
   "outputs": [
    {
     "name": "stdout",
     "output_type": "stream",
     "text": [
      "MEAN SMALL MODEL FPS = 8877.719539737895\n"
     ]
    }
   ],
   "source": [
    "# RESULTS\n",
    "# Note: I ran this cell out of order so simply uncommenting may not work :)\n",
    "\n",
    "num_loops = 10\n",
    "\n",
    "# SMALL MODEL\n",
    "small_model_fps = [check_fps(model = small_model) for _ in range(num_loops)]\n",
    "avg_small_model_fps = np.mean(small_model_fps)\n",
    "print(f'MEAN SMALL MODEL FPS = {avg_small_model_fps}')\n",
    "# MEAN SMALL MODEL FPS = 8877.719539737895\n",
    "\n",
    "\n",
    "# DEEP MODEL\n",
    "# deep_model_fps = [check_fps(model = deep_model) for _ in range(num_loops)]\n",
    "# avg_deep_model_fps = np.mean(deep_model_fps)\n",
    "# print(f'MEAN DEEP MODEL FPS = {avg_deep_model_fps}')\n",
    "# MEAN DEEP MODEL FPS = 3451.9139936571473\n",
    "\n",
    "\n",
    "# SUPER DEEP MODEL\n",
    "# super_deep_model_fps = [check_fps(model = super_deep_model) for _ in range(num_loops)]\n",
    "# avg_super_deep_model_fps = np.mean(super_deep_model_fps)\n",
    "# print(f'MEAN DEEP MODEL FPS = {avg_super_deep_model_fps}')\n",
    "# MEAN DEEP MODEL FPS = 439.697988206109"
   ]
  },
  {
   "cell_type": "code",
   "execution_count": null,
   "metadata": {
    "id": "V4GREz3dQKZZ"
   },
   "outputs": [],
   "source": []
  },
  {
   "cell_type": "code",
   "execution_count": null,
   "metadata": {
    "id": "MAd38EoSQKWK"
   },
   "outputs": [],
   "source": []
  },
  {
   "cell_type": "code",
   "execution_count": null,
   "metadata": {
    "id": "EJblMZo3QKTn"
   },
   "outputs": [],
   "source": []
  },
  {
   "cell_type": "markdown",
   "metadata": {
    "id": "KvDQf65211Ud"
   },
   "source": [
    "## Convert model to onnx\n",
    "Requires dummy inputs"
   ]
  },
  {
   "cell_type": "code",
   "execution_count": 79,
   "metadata": {
    "id": "EcSrcskQR8Ol"
   },
   "outputs": [],
   "source": [
    "# We reset this cell for all the models one by one\n",
    "\n",
    "# Small model\n",
    "# onnx_model_path = \"/content/small_nn.onnx\"\n",
    "# model = small_model\n",
    "# engine_path = \"/content/small_model.engine\"\n",
    "\n",
    "# Deep model\n",
    "# onnx_model_path = \"/content/deep_nn.onnx\"\n",
    "# model = deep_model\n",
    "# engine_path = \"/content/deep_model.engine\"\n",
    "\n",
    "# Super Deep model\n",
    "onnx_model_path = \"/content/super_deep_nn.onnx\"\n",
    "model = super_deep_model\n",
    "engine_path = \"/content/super_deep_model.engine\""
   ]
  },
  {
   "cell_type": "code",
   "execution_count": 80,
   "metadata": {
    "colab": {
     "base_uri": "https://localhost:8080/"
    },
    "execution": {
     "iopub.execute_input": "2024-11-15T04:16:46.291519Z",
     "iopub.status.busy": "2024-11-15T04:16:46.290987Z",
     "iopub.status.idle": "2024-11-15T04:16:46.648465Z",
     "shell.execute_reply": "2024-11-15T04:16:46.647458Z",
     "shell.execute_reply.started": "2024-11-15T04:16:46.291475Z"
    },
    "id": "kjItfRAaE_oQ",
    "outputId": "00b7c9c0-6980-438d-8389-7d6f8022cd1a",
    "trusted": true
   },
   "outputs": [
    {
     "name": "stdout",
     "output_type": "stream",
     "text": [
      "Model exported to /content/super_deep_nn.onnx\n"
     ]
    }
   ],
   "source": [
    "dummy_input = torch.randn(1, 10).to(DEVICE)\n",
    "\n",
    "torch.onnx.export(\n",
    "    model,\n",
    "    dummy_input,\n",
    "    onnx_model_path,\n",
    "    verbose=True\n",
    "    )\n",
    "\n",
    "print(f\"Model exported to {onnx_model_path}\")"
   ]
  },
  {
   "cell_type": "code",
   "execution_count": 81,
   "metadata": {
    "colab": {
     "base_uri": "https://localhost:8080/"
    },
    "execution": {
     "iopub.execute_input": "2024-11-15T04:21:23.469935Z",
     "iopub.status.busy": "2024-11-15T04:21:23.469046Z",
     "iopub.status.idle": "2024-11-15T04:21:23.475819Z",
     "shell.execute_reply": "2024-11-15T04:21:23.474929Z",
     "shell.execute_reply.started": "2024-11-15T04:21:23.469894Z"
    },
    "id": "4saXSR1KE_oT",
    "outputId": "efc8bacb-9568-4c8d-a88a-6beac13d184e",
    "trusted": true
   },
   "outputs": [
    {
     "name": "stdout",
     "output_type": "stream",
     "text": [
      "[name: \"onnx::Gemm_0\"\n",
      "type {\n",
      "  tensor_type {\n",
      "    elem_type: 1\n",
      "    shape {\n",
      "      dim {\n",
      "        dim_value: 1\n",
      "      }\n",
      "      dim {\n",
      "        dim_value: 10\n",
      "      }\n",
      "    }\n",
      "  }\n",
      "}\n",
      "]\n"
     ]
    }
   ],
   "source": [
    "# Check if the conversion happened well\n",
    "model_onnx = onnx.load(onnx_model_path)\n",
    "print(model_onnx.graph.input)"
   ]
  },
  {
   "cell_type": "markdown",
   "metadata": {
    "id": "gHXZXyQW2hSx"
   },
   "source": [
    "\n",
    "\n",
    "---\n",
    "\n"
   ]
  },
  {
   "cell_type": "markdown",
   "metadata": {
    "id": "fK7HbLfxOoDr"
   },
   "source": [
    "# Build the TensorRT engine from the ONNX model\n",
    "Requires a bunch of features to be properly defined, like the logger, the builder etc. All new to me so nice! \\\n",
    "The code blocks below can be seen as **setting up all the variables and features** nicely."
   ]
  },
  {
   "cell_type": "code",
   "execution_count": 82,
   "metadata": {
    "id": "GeO-11tA26LO"
   },
   "outputs": [],
   "source": [
    "# Set variables\n",
    "\n",
    "# builder takes the logger as argument. Intersting!\n",
    "TRT_LOGGER = trt.Logger(trt.Logger.VERBOSE)\n",
    "builder = trt.Builder(TRT_LOGGER)\n",
    "\n",
    "config = builder.create_builder_config()\n",
    "cache = config.create_timing_cache(b\"\")\n",
    "config.set_timing_cache(cache, ignore_mismatch=False)\n",
    "\n",
    "# Explicit batch flags are for handling dynamic shapes\n",
    "flag = 1 << int(trt.NetworkDefinitionCreationFlag.EXPLICIT_BATCH)\n",
    "\n",
    "network = builder.create_network(flag)\n",
    "parser = trt.OnnxParser(network, TRT_LOGGER)"
   ]
  },
  {
   "cell_type": "code",
   "execution_count": 83,
   "metadata": {
    "id": "8Lx6qW-vL7nu"
   },
   "outputs": [],
   "source": [
    "# Load the onnx model\n",
    "\n",
    "# They say this is the way to parse the input.\n",
    "# I find it intersting because this is only checking for errors while parsing :)\n",
    "with open(onnx_model_path, \"rb\") as f:\n",
    "    if not parser.parse(f.read()):\n",
    "        print(f\"ERROR: Failed to parse the ONNX file {onnx_model_path}\")\n",
    "        for error in range(parser.num_errors):\n",
    "            print(parser.get_error(error))"
   ]
  },
  {
   "cell_type": "code",
   "execution_count": 84,
   "metadata": {
    "colab": {
     "base_uri": "https://localhost:8080/"
    },
    "id": "gaL_4UYdMAB0",
    "outputId": "2bdf39e4-2f4d-42b1-f7e6-5932e1526024"
   },
   "outputs": [
    {
     "name": "stdout",
     "output_type": "stream",
     "text": [
      "inputs = [<tensorrt_bindings.tensorrt.ITensor object at 0x7dc2b9e6d870>], outputs = [<tensorrt_bindings.tensorrt.ITensor object at 0x7dc2b9e6f6f0>]\n"
     ]
    }
   ],
   "source": [
    "inputs = [network.get_input(i) for i in range(network.num_inputs)]\n",
    "outputs = [network.get_output(i) for i in range(network.num_outputs)]\n",
    "print(f'inputs = {inputs}, outputs = {outputs}')"
   ]
  },
  {
   "cell_type": "code",
   "execution_count": 85,
   "metadata": {
    "colab": {
     "base_uri": "https://localhost:8080/"
    },
    "id": "qrS7LgjdNlR5",
    "outputId": "76088640-e890-48b5-920e-d514ac5076c3"
   },
   "outputs": [
    {
     "name": "stderr",
     "output_type": "stream",
     "text": [
      "<ipython-input-85-7a17a39bcc35>:2: DeprecationWarning: Use Deprecated in TensorRT 10.1. Superseded by explicit quantization. instead.\n",
      "  config.get_calibration_profile()\n"
     ]
    },
    {
     "data": {
      "text/plain": [
       "<BuilderFlag.BF16: 17>"
      ]
     },
     "execution_count": 85,
     "metadata": {},
     "output_type": "execute_result"
    }
   ],
   "source": [
    "# more settings\n",
    "config.get_calibration_profile()\n",
    "builder.platform_has_fast_fp16\n",
    "trt.BuilderFlag.BF16"
   ]
  },
  {
   "cell_type": "code",
   "execution_count": 86,
   "metadata": {
    "id": "NsSRu8v8Nnu-"
   },
   "outputs": [],
   "source": [
    "# Reduce precision\n",
    "half = True\n",
    "int8 = False\n",
    "\n",
    "if half:\n",
    "    config.set_flag(trt.BuilderFlag.FP16)\n",
    "elif int8:\n",
    "    config.set_flag(trt.BuilderFlag.INT8)"
   ]
  },
  {
   "cell_type": "code",
   "execution_count": 87,
   "metadata": {
    "id": "l05E-YmQNrUC"
   },
   "outputs": [],
   "source": [
    "# Load without unncessary weights if needed\n",
    "strip_weights = True\n",
    "if strip_weights:\n",
    "    config.set_flag(trt.BuilderFlag.STRIP_PLAN)\n"
   ]
  },
  {
   "cell_type": "code",
   "execution_count": 88,
   "metadata": {
    "id": "DNpiygmFNytM"
   },
   "outputs": [],
   "source": [
    "# Build the TRT engine file\n",
    "# Note how this is the serialize method\n",
    "engine_bytes = builder.build_serialized_network(network, config)\n",
    "\n",
    "with open(engine_path, \"wb\") as f:\n",
    "    f.write(engine_bytes)\n"
   ]
  },
  {
   "cell_type": "code",
   "execution_count": 88,
   "metadata": {
    "id": "XH0QBWERN1a5"
   },
   "outputs": [],
   "source": []
  },
  {
   "cell_type": "markdown",
   "metadata": {
    "id": "6Vp7Gd7g5Nic"
   },
   "source": [
    "## Load the Saved Engine and execute"
   ]
  },
  {
   "cell_type": "code",
   "execution_count": 89,
   "metadata": {
    "id": "9KQNqq9_N7ti"
   },
   "outputs": [],
   "source": [
    "# Execute engine\n",
    "# Note how this is the DE-serialize method :)\n",
    "\n",
    "# This can be loaded in two ways apparently\n",
    "# The weight stripped engine and the usual engine\n",
    "\n",
    "def load_stripped_engine_and_refit(\n",
    "    engine_path: str,\n",
    "    onnx_model_path: str,\n",
    ") -> trt.ICudaEngine:\n",
    "\n",
    "    runtime = trt.Runtime(TRT_LOGGER)\n",
    "    with open(engine_path, \"rb\") as engine_file:\n",
    "        engine = runtime.deserialize_cuda_engine(engine_file.read())\n",
    "        refitter = trt.Refitter(engine, TRT_LOGGER)\n",
    "        parser_refitter = trt.OnnxParserRefitter(refitter, TRT_LOGGER)\n",
    "\n",
    "        assert parser_refitter.refit_from_file(onnx_model_path)\n",
    "        assert refitter.refit_cuda_engine()\n",
    "        return engine\n",
    "\n",
    "\n",
    "def load_normal_engine(\n",
    "    engine_path: str\n",
    ") -> trt.ICudaEngine:\n",
    "\n",
    "    # much simpler without many assertions\n",
    "    runtime = trt.Runtime(TRT_LOGGER)\n",
    "    with open(engine_path, \"rb\") as plan:\n",
    "        engine = runtime.deserialize_cuda_engine(plan.read())\n",
    "        return engine"
   ]
  },
  {
   "cell_type": "code",
   "execution_count": 90,
   "metadata": {
    "colab": {
     "base_uri": "https://localhost:8080/"
    },
    "execution": {
     "iopub.execute_input": "2024-11-15T04:23:36.97306Z",
     "iopub.status.busy": "2024-11-15T04:23:36.972132Z",
     "iopub.status.idle": "2024-11-15T04:23:36.9771Z",
     "shell.execute_reply": "2024-11-15T04:23:36.976216Z",
     "shell.execute_reply.started": "2024-11-15T04:23:36.973022Z"
    },
    "id": "dRhF2bWgE_oZ",
    "outputId": "b4cf321e-ad11-4336-c6a2-ac73d1cb538d",
    "trusted": true
   },
   "outputs": [
    {
     "data": {
      "text/plain": [
       "<tensorrt_bindings.tensorrt.ICudaEngine at 0x7dc2c0154eb0>"
      ]
     },
     "execution_count": 90,
     "metadata": {},
     "output_type": "execute_result"
    }
   ],
   "source": [
    "if strip_weights:\n",
    "    engine = load_stripped_engine_and_refit(engine_path, onnx_model_path)\n",
    "else:\n",
    "    engine = load_normal_engine(engine_path)\n",
    "\n",
    "engine"
   ]
  },
  {
   "cell_type": "markdown",
   "metadata": {
    "id": "N_R7imZx6OKh"
   },
   "source": [
    "\n",
    "\n",
    "---\n",
    "\n"
   ]
  },
  {
   "cell_type": "markdown",
   "metadata": {
    "id": "_ef8zKTuG60T"
   },
   "source": [
    "## Inference with the TRT Engine"
   ]
  },
  {
   "cell_type": "code",
   "execution_count": 91,
   "metadata": {
    "colab": {
     "base_uri": "https://localhost:8080/",
     "height": 36
    },
    "id": "HpcSDl2Yjrrz",
    "outputId": "94a75b54-feb1-4701-fca8-7862a7bf08bc"
   },
   "outputs": [
    {
     "data": {
      "application/vnd.google.colaboratory.intrinsic+json": {
       "type": "string"
      },
      "text/plain": [
       "'/content/super_deep_model.engine'"
      ]
     },
     "execution_count": 91,
     "metadata": {},
     "output_type": "execute_result"
    }
   ],
   "source": [
    "# Logger as earlier\n",
    "TRT_LOGGER = trt.Logger(trt.Logger.VERBOSE)\n",
    "\n",
    "# Path to the 'serialized' TensorRT engine :)\n",
    "engine_path"
   ]
  },
  {
   "cell_type": "code",
   "execution_count": 92,
   "metadata": {
    "id": "zsp_epMmjrl1"
   },
   "outputs": [],
   "source": [
    "# Load the engine\n",
    "def load_engine(engine_path: str) -> trt.ICudaEngine:\n",
    "\n",
    "    # observe how this same as earlier\n",
    "    runtime = trt.Runtime(TRT_LOGGER)\n",
    "\n",
    "    with open(engine_path, \"rb\") as f:\n",
    "        engine = runtime.deserialize_cuda_engine(f.read())\n",
    "        return engine\n",
    "\n",
    "engine = load_engine(engine_path)"
   ]
  },
  {
   "cell_type": "code",
   "execution_count": 93,
   "metadata": {
    "id": "pRnRu_p3Gl4b"
   },
   "outputs": [],
   "source": [
    "# wrapping useful methods in a class trtEngineInference\n",
    "# reference https://docs.nvidia.com/deeplearning/tensorrt/developer-guide/index.html#perform_inference_python\n",
    "\n",
    "class trtEngineInference:\n",
    "    def __init__(self, engine_path: str):\n",
    "        self.engine_path = engine_path\n",
    "        self.TRT_LOGGER = trt.Logger(trt.Logger.VERBOSE)\n",
    "\n",
    "        # setup the required things in init only\n",
    "        self.engine = self.load_engine()\n",
    "        self.context = self.engine.create_execution_context()\n",
    "        self.inputs, self.outputs, self.bindings, self.stream = self.allocate_buffers()\n",
    "\n",
    "    def load_engine(self) -> trt.ICudaEngine:\n",
    "        runtime = trt.Runtime(self.TRT_LOGGER)\n",
    "        with open(self.engine_path, \"rb\") as f:\n",
    "            return runtime.deserialize_cuda_engine(f.read())\n",
    "\n",
    "    def allocate_buffers(self):\n",
    "        inputs = []\n",
    "        outputs = []\n",
    "        bindings = []\n",
    "        stream = cuda.Stream()\n",
    "\n",
    "        for binding in self.engine:\n",
    "            binding_name = binding\n",
    "            binding_shape = self.engine.get_tensor_shape(binding)\n",
    "            binding_dtype = self.engine.get_tensor_dtype(binding)\n",
    "            size = trt.volume(binding_shape) * 1 # self.engine.max_batch_size\n",
    "            dtype = trt.nptype(binding_dtype)\n",
    "\n",
    "            # Allocate host and device buffers\n",
    "            host_mem = cuda.pagelocked_empty(size, dtype)\n",
    "            device_mem = cuda.mem_alloc(host_mem.nbytes)\n",
    "\n",
    "            # Append the device buffer to device bindings\n",
    "            bindings.append(int(device_mem))\n",
    "\n",
    "            # Append to the appropriate list\n",
    "            # The binding_is_input has been depreciated, but still shows on the documentation ExecutionContextpage, but not on the ICudaEngine page\n",
    "            # Definitely confusing :/\n",
    "            # https://developer.nvidia.com/docs/drive/drive-os/6.0.9/public/drive-os-tensorrt/api-reference/docs/python/infer/Core/ExecutionContext.html#tensorrt.IExecutionContext.get_binding_shape\n",
    "            # https://docs.nvidia.com/deeplearning/tensorrt/api/python_api/infer/Core/Engine.html\n",
    "\n",
    "            # if engine.binding_is_input(binding):\n",
    "            # The modes can be TensorIOMode.OUTPUT, TensorIOMode.INPUT, TensorIOMode.NONE,\n",
    "            # https://docs.nvidia.com/deeplearning/tensorrt/api/python_api/infer/Core/Engine.html\n",
    "\n",
    "            if self.engine.get_tensor_mode(binding) == trt.TensorIOMode.INPUT:\n",
    "                inputs.append({'name': binding_name, 'host': host_mem, 'device': device_mem})\n",
    "            else:\n",
    "                outputs.append({'name': binding_name, 'host': host_mem, 'device': device_mem})\n",
    "\n",
    "        return inputs, outputs, bindings, stream\n",
    "\n",
    "    def prepare_input_data(self, input_data: np.ndarray):\n",
    "        # Copy input data to the host memory\n",
    "        np.copyto(self.inputs[0]['host'], input_data.ravel())\n",
    "\n",
    "        # Set tensor addresses for inputs and outputs\n",
    "        for inp in self.inputs:\n",
    "            self.context.set_tensor_address(inp['name'], int(inp['device']))\n",
    "        for out in self.outputs:\n",
    "            self.context.set_tensor_address(out['name'], int(out['device']))\n",
    "\n",
    "    def do_inference(self):\n",
    "        # Transfer data from CPU to GPU\n",
    "        [cuda.memcpy_htod_async(inp['device'], inp['host'], self.stream) for inp in self.inputs]\n",
    "\n",
    "        # Run inference\n",
    "        self.context.execute_async_v3(stream_handle=self.stream.handle)\n",
    "\n",
    "        # Transfer predictions back from the GPU.\n",
    "        [cuda.memcpy_dtoh_async(out['host'], out['device'], self.stream) for out in self.outputs]\n",
    "\n",
    "        # Synchronize the stream\n",
    "        self.stream.synchronize()\n",
    "\n",
    "        # Return only the host outputs.\n",
    "        return [out['host'] for out in self.outputs]\n"
   ]
  },
  {
   "cell_type": "code",
   "execution_count": 94,
   "metadata": {
    "colab": {
     "base_uri": "https://localhost:8080/"
    },
    "id": "DBI8djNAHpcF",
    "outputId": "13fc4e4c-0ca2-4135-9233-453b1e09cf9b"
   },
   "outputs": [
    {
     "data": {
      "text/plain": [
       "[array([0.02160645], dtype=float32)]"
      ]
     },
     "execution_count": 94,
     "metadata": {},
     "output_type": "execute_result"
    }
   ],
   "source": [
    "# Inference for one input\n",
    "trt_engine = trtEngineInference(engine_path)\n",
    "\n",
    "input_shape = (1, 10)  # Batch size of 1, 10 features\n",
    "input_data = np.random.rand(*input_shape).astype(np.float32)\n",
    "trt_engine.prepare_input_data(input_data)\n",
    "output_data = trt_engine.do_inference()\n",
    "output_data"
   ]
  },
  {
   "cell_type": "code",
   "execution_count": 74,
   "metadata": {
    "id": "gdn31ak6TSPQ"
   },
   "outputs": [],
   "source": []
  },
  {
   "cell_type": "markdown",
   "metadata": {
    "id": "wVREAqdnH-Ju"
   },
   "source": [
    "\n",
    "## Measure inference speed"
   ]
  },
  {
   "cell_type": "code",
   "execution_count": 77,
   "metadata": {
    "id": "CeTwezYdTNVv"
   },
   "outputs": [],
   "source": [
    "# Note how this little code block is similar to the one done previously for the pytorch model\n",
    "\n",
    "def check_fps_trt(trt_engine):\n",
    "\n",
    "  num_iterations = 1000\n",
    "  total_time = 0.0\n",
    "  input_shape = (1, 10)\n",
    "\n",
    "  for i in range(num_iterations):\n",
    "    input_data = np.random.rand(*input_shape).astype(np.float32)\n",
    "    trt_engine.prepare_input_data(input_data)\n",
    "    tik = time.time()\n",
    "    output_data = trt_engine.do_inference()\n",
    "    tok = time.time()\n",
    "    total_time += tok - tik\n",
    "\n",
    "  tensorrt_fps = num_iterations / total_time\n",
    "  print(f\"TensorRT FPS: {tensorrt_fps:.2f}\")\n",
    "\n",
    "  return tensorrt_fps"
   ]
  },
  {
   "cell_type": "code",
   "execution_count": 56,
   "metadata": {
    "colab": {
     "base_uri": "https://localhost:8080/"
    },
    "id": "kfUpdFxlTNVv",
    "outputId": "c1ea1b98-1982-4752-ec85-b7a0d20a0d1a"
   },
   "outputs": [
    {
     "name": "stdout",
     "output_type": "stream",
     "text": [
      "TensorRT FPS: 32812.35\n",
      "TensorRT FPS: 36419.64\n",
      "TensorRT FPS: 35809.58\n",
      "TensorRT FPS: 35227.90\n",
      "TensorRT FPS: 31858.78\n",
      "TensorRT FPS: 32467.17\n",
      "TensorRT FPS: 33741.77\n",
      "TensorRT FPS: 35452.11\n",
      "TensorRT FPS: 35105.53\n",
      "TensorRT FPS: 36367.22\n",
      "MEAN SMALL MODEL FPS = 34526.20432906823\n"
     ]
    }
   ],
   "source": [
    "num_loops = 10\n",
    "\n",
    "small_model_trt_fps = [check_fps_trt(trt_engine = trt_engine) for _ in range(num_loops)]\n",
    "avg_small_model_trt_fps = np.mean(small_model_trt_fps)\n",
    "print(f'MEAN SMALL MODEL TRT FPS = {avg_small_model_trt_fps}')"
   ]
  },
  {
   "cell_type": "code",
   "execution_count": 78,
   "metadata": {
    "colab": {
     "base_uri": "https://localhost:8080/"
    },
    "id": "m1vqeX2sHsrs",
    "outputId": "300dd1b7-65ef-4999-c9b2-9ac8bfb98378"
   },
   "outputs": [
    {
     "name": "stdout",
     "output_type": "stream",
     "text": [
      "TensorRT FPS: 13561.12\n",
      "TensorRT FPS: 13806.86\n",
      "TensorRT FPS: 13201.92\n",
      "TensorRT FPS: 13690.28\n",
      "TensorRT FPS: 15838.50\n",
      "TensorRT FPS: 15528.54\n",
      "TensorRT FPS: 15925.76\n",
      "TensorRT FPS: 13462.18\n",
      "TensorRT FPS: 13995.80\n",
      "TensorRT FPS: 14142.43\n",
      "MEAN DEEP MODEL TRT FPS = 14315.338500347343\n"
     ]
    }
   ],
   "source": [
    "# deep_model_trt_fps = [check_fps_trt(trt_engine = trt_engine) for _ in range(num_loops)]\n",
    "# avg_deep_model_trt_fps = np.mean(deep_model_trt_fps)\n",
    "# print(f'MEAN DEEP MODEL TRT FPS = {avg_deep_model_trt_fps}')\n",
    "# TensorRT FPS: 13561.12\n",
    "# TensorRT FPS: 13806.86\n",
    "# TensorRT FPS: 13201.92\n",
    "# TensorRT FPS: 13690.28\n",
    "# TensorRT FPS: 15838.50\n",
    "# TensorRT FPS: 15528.54\n",
    "# TensorRT FPS: 15925.76\n",
    "# TensorRT FPS: 13462.18\n",
    "# TensorRT FPS: 13995.80\n",
    "# TensorRT FPS: 14142.43\n",
    "# MEAN DEEP MODEL TRT FPS = 14315.338500347343\n"
   ]
  },
  {
   "cell_type": "code",
   "execution_count": 95,
   "metadata": {
    "colab": {
     "base_uri": "https://localhost:8080/"
    },
    "id": "6cNVpSjPHqt-",
    "outputId": "b3cd74f8-e8e9-47dc-d14e-5584fe682b39"
   },
   "outputs": [
    {
     "name": "stderr",
     "output_type": "stream",
     "text": [
      "/usr/local/lib/python3.10/dist-packages/google/colab/_variable_inspector.py:27: UserWarning: pagelocked_host_allocation in out-of-thread context could not be cleaned up\n",
      "  globals().clear()\n",
      "/usr/local/lib/python3.10/dist-packages/google/colab/_variable_inspector.py:27: UserWarning: device_allocation in out-of-thread context could not be cleaned up\n",
      "  globals().clear()\n",
      "/usr/local/lib/python3.10/dist-packages/google/colab/_variable_inspector.py:27: UserWarning: stream in out-of-thread context could not be cleaned up\n",
      "  globals().clear()\n"
     ]
    },
    {
     "name": "stdout",
     "output_type": "stream",
     "text": [
      "TensorRT FPS: 810.23\n",
      "TensorRT FPS: 841.57\n",
      "TensorRT FPS: 840.72\n",
      "TensorRT FPS: 842.79\n",
      "TensorRT FPS: 836.84\n",
      "TensorRT FPS: 819.79\n",
      "TensorRT FPS: 805.77\n",
      "TensorRT FPS: 836.98\n",
      "TensorRT FPS: 838.61\n",
      "TensorRT FPS: 838.35\n",
      "MEAN SUPER DEEP MODEL TRT FPS = 831.1655087264162\n"
     ]
    }
   ],
   "source": [
    "# super_deep_model_trt_fps = [check_fps_trt(trt_engine = trt_engine) for _ in range(num_loops)]\n",
    "# avg_super_deep_model_trt_fps = np.mean(super_deep_model_trt_fps)\n",
    "# print(f'MEAN SUPER DEEP MODEL TRT FPS = {avg_super_deep_model_trt_fps}')\n",
    "\n",
    "# TensorRT FPS: 810.23\n",
    "# TensorRT FPS: 841.57\n",
    "# TensorRT FPS: 840.72\n",
    "# TensorRT FPS: 842.79\n",
    "# TensorRT FPS: 836.84\n",
    "# TensorRT FPS: 819.79\n",
    "# TensorRT FPS: 805.77\n",
    "# TensorRT FPS: 836.98\n",
    "# TensorRT FPS: 838.61\n",
    "# TensorRT FPS: 838.35\n",
    "# MEAN SUPER DEEP MODEL TRT FPS = 831.1655087264162"
   ]
  },
  {
   "cell_type": "code",
   "execution_count": null,
   "metadata": {
    "id": "B_bqxNSmHqmn"
   },
   "outputs": [],
   "source": []
  },
  {
   "cell_type": "markdown",
   "metadata": {
    "id": "cHwmXQ5mJ0zP"
   },
   "source": [
    "# Plot the speedups!"
   ]
  },
  {
   "cell_type": "code",
   "execution_count": 98,
   "metadata": {
    "colab": {
     "base_uri": "https://localhost:8080/",
     "height": 607
    },
    "id": "-CmBwiQMJ3do",
    "outputId": "aec52414-167a-4756-d15b-728532b7d61f"
   },
   "outputs": [
    {
     "data": {
      "image/png": "[encoded data removed]",
      "text/plain": [
       "<Figure size 1000x600 with 1 Axes>"
      ]
     },
     "metadata": {},
     "output_type": "display_data"
    }
   ],
   "source": [
    "import matplotlib.pyplot as plt\n",
    "import numpy as np\n",
    "\n",
    "# Sample data (replace these with your actual values)\n",
    "# avg_small_model_trt_fps = 150\n",
    "# avg_small_model_fps = 100\n",
    "# avg_deep_model_trt_fps = 120\n",
    "# avg_deep_model_fps = 80\n",
    "# avg_super_deep_model_trt_fps = 90\n",
    "# avg_super_deep_model_fps = 60\n",
    "\n",
    "# Values and labels for the bars\n",
    "values = [\n",
    "    [avg_small_model_trt_fps, avg_small_model_fps],\n",
    "    [avg_deep_model_trt_fps, avg_deep_model_fps],\n",
    "    [avg_super_deep_model_trt_fps, avg_super_deep_model_fps]\n",
    "]\n",
    "\n",
    "speedup_small = avg_small_model_trt_fps/ avg_small_model_fps\n",
    "speedup_deep = avg_deep_model_trt_fps / avg_deep_model_fps\n",
    "speedup_super_deep = avg_super_deep_model_trt_fps /  avg_super_deep_model_fps\n",
    "\n",
    "\n",
    "\n",
    "labels = ['Small Model', 'Deep Model', 'Super Deep Model']\n",
    "frameworks = ['TensorRT', 'PyTorch']\n",
    "\n",
    "# Set up the bar positions\n",
    "x = np.arange(len(labels))  # the label locations\n",
    "width = 0.35  # the width of the bars\n",
    "\n",
    "# Create the figure and axis\n",
    "fig, ax = plt.subplots(figsize=(10, 6), dpi=100)\n",
    "\n",
    "# Plotting the bars\n",
    "for i in range(len(frameworks)):\n",
    "    ax.bar(x + i * width, [values[j][i] for j in range(len(values))], width, label=frameworks[i])\n",
    "\n",
    "# Adding titles and labels\n",
    "ax.set_title(f'Inference Speedup Comparison\\n Small: {speedup_small:.2f}x, Deep: {speedup_deep:.2f}x, SuperDeep: {speedup_super_deep:.2f}x, ')\n",
    "ax.set_xlabel('Model Type')\n",
    "ax.set_ylabel('FPS')\n",
    "ax.set_xticks(x + width / 2)\n",
    "ax.set_xticklabels(labels)\n",
    "ax.legend(title='Framework')\n",
    "\n",
    "# Displaying the plot\n",
    "plt.tight_layout()\n",
    "plt.show()"
   ]
  },
  {
   "cell_type": "code",
   "execution_count": null,
   "metadata": {
    "id": "xGWzsr--XT-j"
   },
   "outputs": [],
   "source": []
  }
 ],
 "metadata": {
  "accelerator": "GPU",
  "colab": {
   "gpuType": "T4",
   "provenance": []
  },
  "kernelspec": {
   "display_name": "Python 3",
   "name": "python3"
  },
  "language_info": {
   "name": "python"
  }
 },
 "nbformat": 4,
 "nbformat_minor": 0
}
