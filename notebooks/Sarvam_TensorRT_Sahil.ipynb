{
  "nbformat": 4,
  "nbformat_minor": 0,
  "metadata": {
    "colab": {
      "provenance": [],
      "gpuType": "T4"
    },
    "kernelspec": {
      "name": "python3",
      "display_name": "Python 3"
    },
    "language_info": {
      "name": "python"
    },
    "accelerator": "GPU"
  },
  "cells": [
    {
      "cell_type": "markdown",
      "source": [
        "# IMPORTS"
      ],
      "metadata": {
        "id": "qBK7MzMAyb9Y"
      }
    },
    {
      "cell_type": "code",
      "source": [
        "!pip install onnx tensorrt pycuda"
      ],
      "metadata": {
        "colab": {
          "base_uri": "https://localhost:8080/"
        },
        "id": "cLpVY0AEypN8",
        "outputId": "938e9fb7-8f9e-4dbe-e6e3-9ac726f9c9cb"
      },
      "execution_count": 93,
      "outputs": [
        {
          "output_type": "stream",
          "name": "stdout",
          "text": [
            "Requirement already satisfied: onnx in /usr/local/lib/python3.10/dist-packages (1.17.0)\n",
            "Requirement already satisfied: tensorrt in /usr/local/lib/python3.10/dist-packages (10.6.0)\n",
            "Requirement already satisfied: pycuda in /usr/local/lib/python3.10/dist-packages (2024.1.2)\n",
            "Requirement already satisfied: numpy>=1.20 in /usr/local/lib/python3.10/dist-packages (from onnx) (1.26.4)\n",
            "Requirement already satisfied: protobuf>=3.20.2 in /usr/local/lib/python3.10/dist-packages (from onnx) (4.25.5)\n",
            "Requirement already satisfied: tensorrt-cu12==10.6.0 in /usr/local/lib/python3.10/dist-packages (from tensorrt) (10.6.0)\n",
            "Requirement already satisfied: pytools>=2011.2 in /usr/local/lib/python3.10/dist-packages (from pycuda) (2024.1.15)\n",
            "Requirement already satisfied: platformdirs>=2.2.0 in /usr/local/lib/python3.10/dist-packages (from pycuda) (4.3.6)\n",
            "Requirement already satisfied: mako in /usr/local/lib/python3.10/dist-packages (from pycuda) (1.3.6)\n",
            "Requirement already satisfied: typing-extensions>=4 in /usr/local/lib/python3.10/dist-packages (from pytools>=2011.2->pycuda) (4.12.2)\n",
            "Requirement already satisfied: MarkupSafe>=0.9.2 in /usr/local/lib/python3.10/dist-packages (from mako->pycuda) (3.0.2)\n"
          ]
        }
      ]
    },
    {
      "cell_type": "code",
      "source": [
        "!pip install cuda-python>=12.2.0"
      ],
      "metadata": {
        "id": "sDWGCrgXz92D"
      },
      "execution_count": 94,
      "outputs": []
    },
    {
      "cell_type": "code",
      "source": [
        "import numpy as np\n",
        "import pandas as pd\n",
        "import time\n",
        "import os\n",
        "\n",
        "# Torch imports\n",
        "import torch\n",
        "import torch.nn as nn\n",
        "import torch.optim as optim\n",
        "\n",
        "# Onnx imports\n",
        "import torch.onnx\n",
        "import onnx\n",
        "\n",
        "# TensorRT imports\n",
        "import tensorrt as trt\n",
        "from tensorrt import TensorIOMode # VERY USEFUL!\n",
        "\n",
        "# Needed for inference\n",
        "import pycuda.driver as cuda\n",
        "import pycuda.autoinit\n",
        "\n",
        "# Colab bug\n",
        "import locale\n",
        "locale.getpreferredencoding = lambda: \"UTF-8\""
      ],
      "metadata": {
        "_uuid": "8f2839f25d086af736a60e9eeb907d3b93b6e0e5",
        "_cell_guid": "b1076dfc-b9ad-4769-8c92-a6c4dae69d19",
        "trusted": true,
        "execution": {
          "iopub.status.busy": "2024-11-15T04:16:36.31364Z",
          "iopub.execute_input": "2024-11-15T04:16:36.314128Z",
          "iopub.status.idle": "2024-11-15T04:16:37.237507Z",
          "shell.execute_reply.started": "2024-11-15T04:16:36.314082Z",
          "shell.execute_reply": "2024-11-15T04:16:37.236609Z"
        },
        "id": "NK5n5xQtE_oC"
      },
      "outputs": [],
      "execution_count": 95
    },
    {
      "cell_type": "code",
      "source": [
        "DEVICE = 'cuda'"
      ],
      "metadata": {
        "trusted": true,
        "execution": {
          "iopub.status.busy": "2024-11-15T04:16:37.239877Z",
          "iopub.execute_input": "2024-11-15T04:16:37.240287Z",
          "iopub.status.idle": "2024-11-15T04:16:40.480274Z",
          "shell.execute_reply.started": "2024-11-15T04:16:37.240254Z",
          "shell.execute_reply": "2024-11-15T04:16:40.47931Z"
        },
        "id": "9keniFwcE_oL"
      },
      "outputs": [],
      "execution_count": 96
    },
    {
      "cell_type": "markdown",
      "source": [
        "# Start with a Simple Network"
      ],
      "metadata": {
        "id": "21pfiXQ4zCP9"
      }
    },
    {
      "cell_type": "code",
      "source": [
        "class SimpleNN(nn.Module):\n",
        "    def __init__(self):\n",
        "        # super(SimpleNN, self).__init__()\n",
        "        super().__init__()\n",
        "        self.fc1 = nn.Linear(10, 5)\n",
        "        self.relu = nn.ReLU()\n",
        "        self.fc2 = nn.Linear(5, 1)\n",
        "\n",
        "    def forward(self, x):\n",
        "        x = self.fc1(x)\n",
        "        x = self.relu(x)\n",
        "        x = self.fc2(x)\n",
        "        return x\n",
        "\n",
        "model = SimpleNN()\n",
        "model.to(DEVICE)\n",
        "model"
      ],
      "metadata": {
        "colab": {
          "base_uri": "https://localhost:8080/"
        },
        "id": "cGV4Fl7Pymd7",
        "outputId": "0d8373cd-7c92-418e-ab22-f783180482ae"
      },
      "execution_count": 97,
      "outputs": [
        {
          "output_type": "execute_result",
          "data": {
            "text/plain": [
              "SimpleNN(\n",
              "  (fc1): Linear(in_features=10, out_features=5, bias=True)\n",
              "  (relu): ReLU()\n",
              "  (fc2): Linear(in_features=5, out_features=1, bias=True)\n",
              ")"
            ]
          },
          "metadata": {},
          "execution_count": 97
        }
      ]
    },
    {
      "cell_type": "markdown",
      "source": [
        "## Measure inference speed\n"
      ],
      "metadata": {
        "id": "OAdVKjJ41KIp"
      }
    },
    {
      "cell_type": "code",
      "source": [
        "num_iterations = 1000\n",
        "total_time = 0.0\n",
        "input_shape = (1, 10)\n",
        "\n",
        "with torch.no_grad():\n",
        "    for i in range(num_iterations):\n",
        "        input_data = torch.randn(*input_shape).to(DEVICE)\n",
        "\n",
        "        tik = time.time()\n",
        "        output_data = model(input_data)\n",
        "        tok = time.time()\n",
        "\n",
        "        total_time += tok - tik\n",
        "\n",
        "# Calculate frames per second (FPS)\n",
        "pytorch_fps = num_iterations / total_time\n",
        "print(f\"PyTorch FPS: {pytorch_fps:.2f}\")"
      ],
      "metadata": {
        "colab": {
          "base_uri": "https://localhost:8080/"
        },
        "id": "7537sWKtvw1P",
        "outputId": "63cf4b49-7d05-4a63-a374-086e41a6eb4f"
      },
      "execution_count": 98,
      "outputs": [
        {
          "output_type": "stream",
          "name": "stdout",
          "text": [
            "PyTorch FPS: 3157.17\n"
          ]
        }
      ]
    },
    {
      "cell_type": "markdown",
      "source": [
        "## Convert model to onnx\n",
        "Requires dummy inputs"
      ],
      "metadata": {
        "id": "KvDQf65211Ud"
      }
    },
    {
      "cell_type": "code",
      "source": [
        "onnx_model_path = \"/content/simple_nn.onnx\"\n",
        "dummy_input = torch.randn(1, 10).to(DEVICE)\n",
        "\n",
        "torch.onnx.export(\n",
        "    model,\n",
        "    dummy_input,\n",
        "    onnx_model_path,\n",
        "    verbose=True\n",
        "    )\n",
        "\n",
        "print(f\"Model exported to {onnx_model_path}\")"
      ],
      "metadata": {
        "trusted": true,
        "execution": {
          "iopub.status.busy": "2024-11-15T04:16:46.290987Z",
          "iopub.execute_input": "2024-11-15T04:16:46.291519Z",
          "iopub.status.idle": "2024-11-15T04:16:46.648465Z",
          "shell.execute_reply.started": "2024-11-15T04:16:46.291475Z",
          "shell.execute_reply": "2024-11-15T04:16:46.647458Z"
        },
        "id": "kjItfRAaE_oQ",
        "outputId": "0bd79e35-e784-477d-ef02-8611f12f0ec3",
        "colab": {
          "base_uri": "https://localhost:8080/"
        }
      },
      "outputs": [
        {
          "output_type": "stream",
          "name": "stdout",
          "text": [
            "Model exported to /content/simple_nn.onnx\n"
          ]
        }
      ],
      "execution_count": 99
    },
    {
      "cell_type": "code",
      "source": [
        "# Check if the conversion happened well\n",
        "model_onnx = onnx.load(onnx_model_path)\n",
        "print(model_onnx.graph.input)"
      ],
      "metadata": {
        "trusted": true,
        "execution": {
          "iopub.status.busy": "2024-11-15T04:21:23.469046Z",
          "iopub.execute_input": "2024-11-15T04:21:23.469935Z",
          "iopub.status.idle": "2024-11-15T04:21:23.475819Z",
          "shell.execute_reply.started": "2024-11-15T04:21:23.469894Z",
          "shell.execute_reply": "2024-11-15T04:21:23.474929Z"
        },
        "id": "4saXSR1KE_oT",
        "outputId": "9c84e63b-67ca-4df0-e285-bc713e38ec85",
        "colab": {
          "base_uri": "https://localhost:8080/"
        }
      },
      "outputs": [
        {
          "output_type": "stream",
          "name": "stdout",
          "text": [
            "[name: \"onnx::Gemm_0\"\n",
            "type {\n",
            "  tensor_type {\n",
            "    elem_type: 1\n",
            "    shape {\n",
            "      dim {\n",
            "        dim_value: 1\n",
            "      }\n",
            "      dim {\n",
            "        dim_value: 10\n",
            "      }\n",
            "    }\n",
            "  }\n",
            "}\n",
            "]\n"
          ]
        }
      ],
      "execution_count": 100
    },
    {
      "cell_type": "markdown",
      "source": [
        "\n",
        "\n",
        "---\n",
        "\n"
      ],
      "metadata": {
        "id": "gHXZXyQW2hSx"
      }
    },
    {
      "cell_type": "markdown",
      "source": [
        "# Build the TensorRT engine from the ONNX model\n",
        "Requires a bunch of features to be properly defined, like the logger, the builder etc. All new to me so nice! \\\n",
        "The code blocks below can be seen as **setting up all the variables and features** nicely."
      ],
      "metadata": {
        "id": "fK7HbLfxOoDr"
      }
    },
    {
      "cell_type": "code",
      "source": [
        "# Set variables\n",
        "\n",
        "# builder takes the logger as argument. Intersting!\n",
        "TRT_LOGGER = trt.Logger(trt.Logger.VERBOSE)\n",
        "builder = trt.Builder(TRT_LOGGER)\n",
        "\n",
        "config = builder.create_builder_config()\n",
        "cache = config.create_timing_cache(b\"\")\n",
        "config.set_timing_cache(cache, ignore_mismatch=False)\n",
        "\n",
        "# Explici batch flags are for handling dynamic shapes\n",
        "flag = 1 << int(trt.NetworkDefinitionCreationFlag.EXPLICIT_BATCH)\n",
        "\n",
        "network = builder.create_network(flag)\n",
        "parser = trt.OnnxParser(network, TRT_LOGGER)"
      ],
      "metadata": {
        "id": "GeO-11tA26LO"
      },
      "execution_count": 101,
      "outputs": []
    },
    {
      "cell_type": "code",
      "source": [
        "# Load the onnx model\n",
        "path_onnx_model = \"/content/simple_nn.onnx\"\n",
        "\n",
        "# They say this is the way to parse the input.\n",
        "# I find it intersting because this is only checking for errors while parsing :)\n",
        "with open(path_onnx_model, \"rb\") as f:\n",
        "    if not parser.parse(f.read()):\n",
        "        print(f\"ERROR: Failed to parse the ONNX file {path_onnx_model}\")\n",
        "        for error in range(parser.num_errors):\n",
        "            print(parser.get_error(error))"
      ],
      "metadata": {
        "id": "8Lx6qW-vL7nu"
      },
      "execution_count": 102,
      "outputs": []
    },
    {
      "cell_type": "code",
      "source": [
        "inputs = [network.get_input(i) for i in range(network.num_inputs)]\n",
        "outputs = [network.get_output(i) for i in range(network.num_outputs)]\n",
        "print(f'inputs = {inputs}, outputs = {outputs}')"
      ],
      "metadata": {
        "colab": {
          "base_uri": "https://localhost:8080/"
        },
        "id": "gaL_4UYdMAB0",
        "outputId": "0666b682-d0d9-4460-8c96-571dd5309c6e"
      },
      "execution_count": 103,
      "outputs": [
        {
          "output_type": "stream",
          "name": "stdout",
          "text": [
            "inputs = [<tensorrt_bindings.tensorrt.ITensor object at 0x79e1885e1070>], outputs = [<tensorrt_bindings.tensorrt.ITensor object at 0x79e188593530>]\n"
          ]
        }
      ]
    },
    {
      "cell_type": "code",
      "source": [
        "# more settings\n",
        "config.get_calibration_profile()\n",
        "builder.platform_has_fast_fp16\n",
        "trt.BuilderFlag.BF16"
      ],
      "metadata": {
        "colab": {
          "base_uri": "https://localhost:8080/"
        },
        "id": "qrS7LgjdNlR5",
        "outputId": "e20eff8b-24ac-4cbb-b03c-3a411844ad81"
      },
      "execution_count": 104,
      "outputs": [
        {
          "output_type": "stream",
          "name": "stderr",
          "text": [
            "<ipython-input-104-7a17a39bcc35>:2: DeprecationWarning: Use Deprecated in TensorRT 10.1. Superseded by explicit quantization. instead.\n",
            "  config.get_calibration_profile()\n"
          ]
        },
        {
          "output_type": "execute_result",
          "data": {
            "text/plain": [
              "<BuilderFlag.BF16: 17>"
            ]
          },
          "metadata": {},
          "execution_count": 104
        }
      ]
    },
    {
      "cell_type": "code",
      "source": [
        "# Reduce precision\n",
        "half = True\n",
        "int8 = False\n",
        "\n",
        "if half:\n",
        "    config.set_flag(trt.BuilderFlag.FP16)\n",
        "elif int8:\n",
        "    config.set_flag(trt.BuilderFlag.INT8)"
      ],
      "metadata": {
        "id": "NsSRu8v8Nnu-"
      },
      "execution_count": 105,
      "outputs": []
    },
    {
      "cell_type": "code",
      "source": [
        "# Load without unncessary weights if needed\n",
        "strip_weights = True\n",
        "if strip_weights:\n",
        "    config.set_flag(trt.BuilderFlag.STRIP_PLAN)\n"
      ],
      "metadata": {
        "id": "l05E-YmQNrUC"
      },
      "execution_count": 106,
      "outputs": []
    },
    {
      "cell_type": "code",
      "source": [
        "# Build the TRT engine file\n",
        "# Note how this is the serialize method\n",
        "engine_bytes = builder.build_serialized_network(network, config)\n",
        "engine_path = \"/content/model.engine\"\n",
        "\n",
        "with open(engine_path, \"wb\") as f:\n",
        "    f.write(engine_bytes)\n"
      ],
      "metadata": {
        "id": "DNpiygmFNytM"
      },
      "execution_count": 107,
      "outputs": []
    },
    {
      "cell_type": "code",
      "source": [],
      "metadata": {
        "id": "XH0QBWERN1a5"
      },
      "execution_count": 107,
      "outputs": []
    },
    {
      "cell_type": "markdown",
      "source": [
        "## Load the Saved Engine and execute"
      ],
      "metadata": {
        "id": "6Vp7Gd7g5Nic"
      }
    },
    {
      "cell_type": "code",
      "source": [
        "# Execute engine\n",
        "# Note how this is the DE-serialize method :)\n",
        "\n",
        "# This can be loaded in two ways apparently\n",
        "# The weight stripped engine and the usual engine\n",
        "\n",
        "def load_stripped_engine_and_refit(\n",
        "    engine_path: str,\n",
        "    onnx_model_path: str,\n",
        ") -> trt.ICudaEngine:\n",
        "\n",
        "    runtime = trt.Runtime(TRT_LOGGER)\n",
        "    with open(engine_path, \"rb\") as engine_file:\n",
        "        engine = runtime.deserialize_cuda_engine(engine_file.read())\n",
        "        refitter = trt.Refitter(engine, TRT_LOGGER)\n",
        "        parser_refitter = trt.OnnxParserRefitter(refitter, TRT_LOGGER)\n",
        "\n",
        "        assert parser_refitter.refit_from_file(onnx_model_path)\n",
        "        assert refitter.refit_cuda_engine()\n",
        "        return engine\n",
        "\n",
        "\n",
        "def load_normal_engine(\n",
        "    engine_path: str\n",
        ") -> trt.ICudaEngine:\n",
        "\n",
        "    # much simpler without many assertions\n",
        "    runtime = trt.Runtime(TRT_LOGGER)\n",
        "    with open(engine_path, \"rb\") as plan:\n",
        "        engine = runtime.deserialize_cuda_engine(plan.read())\n",
        "        return engine"
      ],
      "metadata": {
        "id": "9KQNqq9_N7ti"
      },
      "execution_count": 108,
      "outputs": []
    },
    {
      "cell_type": "code",
      "source": [
        "if strip_weights:\n",
        "    engine = load_stripped_engine_and_refit(engine_path, path_onnx_model)\n",
        "else:\n",
        "    engine = load_normal_engine(engine_path)\n",
        "\n",
        "engine"
      ],
      "metadata": {
        "trusted": true,
        "execution": {
          "iopub.status.busy": "2024-11-15T04:23:36.972132Z",
          "iopub.execute_input": "2024-11-15T04:23:36.97306Z",
          "iopub.status.idle": "2024-11-15T04:23:36.9771Z",
          "shell.execute_reply.started": "2024-11-15T04:23:36.973022Z",
          "shell.execute_reply": "2024-11-15T04:23:36.976216Z"
        },
        "id": "dRhF2bWgE_oZ",
        "colab": {
          "base_uri": "https://localhost:8080/"
        },
        "outputId": "39592f87-b748-473f-960d-f6ddc5eebfb0"
      },
      "outputs": [
        {
          "output_type": "execute_result",
          "data": {
            "text/plain": [
              "<tensorrt_bindings.tensorrt.ICudaEngine at 0x79e188b6ae30>"
            ]
          },
          "metadata": {},
          "execution_count": 109
        }
      ],
      "execution_count": 109
    },
    {
      "cell_type": "markdown",
      "source": [
        "\n",
        "\n",
        "---\n",
        "\n"
      ],
      "metadata": {
        "id": "N_R7imZx6OKh"
      }
    },
    {
      "cell_type": "markdown",
      "source": [
        "## Inference with the TRT Engine"
      ],
      "metadata": {
        "id": "_ef8zKTuG60T"
      }
    },
    {
      "cell_type": "code",
      "source": [
        "# Logger as earlier\n",
        "TRT_LOGGER = trt.Logger(trt.Logger.VERBOSE)\n",
        "\n",
        "# Path to the 'serialized' TensorRT engine :)\n",
        "engine_path = \"/content/model.engine\""
      ],
      "metadata": {
        "id": "HpcSDl2Yjrrz"
      },
      "execution_count": 110,
      "outputs": []
    },
    {
      "cell_type": "code",
      "source": [
        "# Load the engine\n",
        "def load_engine(engine_path: str) -> trt.ICudaEngine:\n",
        "\n",
        "    # observe how this same as earlier\n",
        "    runtime = trt.Runtime(TRT_LOGGER)\n",
        "\n",
        "    with open(engine_path, \"rb\") as f:\n",
        "        engine = runtime.deserialize_cuda_engine(f.read())\n",
        "        return engine\n",
        "\n",
        "engine = load_engine(engine_path)"
      ],
      "metadata": {
        "id": "zsp_epMmjrl1"
      },
      "execution_count": 111,
      "outputs": []
    },
    {
      "cell_type": "code",
      "source": [
        "# wrapping useful methods in a class trtEngineInference\n",
        "# reference https://docs.nvidia.com/deeplearning/tensorrt/developer-guide/index.html#perform_inference_python\n",
        "\n",
        "class trtEngineInference:\n",
        "    def __init__(self, engine_path: str):\n",
        "        self.engine_path = engine_path\n",
        "        self.TRT_LOGGER = trt.Logger(trt.Logger.VERBOSE)\n",
        "\n",
        "        # setup the required things in init only\n",
        "        self.engine = self.load_engine()\n",
        "        self.context = self.engine.create_execution_context()\n",
        "        self.inputs, self.outputs, self.bindings, self.stream = self.allocate_buffers()\n",
        "\n",
        "    def load_engine(self) -> trt.ICudaEngine:\n",
        "        runtime = trt.Runtime(self.TRT_LOGGER)\n",
        "        with open(self.engine_path, \"rb\") as f:\n",
        "            return runtime.deserialize_cuda_engine(f.read())\n",
        "\n",
        "    def allocate_buffers(self):\n",
        "        inputs = []\n",
        "        outputs = []\n",
        "        bindings = []\n",
        "        stream = cuda.Stream()\n",
        "\n",
        "        for binding in self.engine:\n",
        "            binding_name = binding\n",
        "            binding_shape = self.engine.get_tensor_shape(binding)\n",
        "            binding_dtype = self.engine.get_tensor_dtype(binding)\n",
        "            size = trt.volume(binding_shape) * 1 # self.engine.max_batch_size\n",
        "            dtype = trt.nptype(binding_dtype)\n",
        "\n",
        "            # Allocate host and device buffers\n",
        "            host_mem = cuda.pagelocked_empty(size, dtype)\n",
        "            device_mem = cuda.mem_alloc(host_mem.nbytes)\n",
        "\n",
        "            # Append the device buffer to device bindings\n",
        "            bindings.append(int(device_mem))\n",
        "\n",
        "            # Append to the appropriate list\n",
        "            # The binding_is_input has been depreciated, but still shows on the documentation ExecutionContextpage, but not on the ICudaEngine page\n",
        "            # Definitely confusing :/\n",
        "            # https://developer.nvidia.com/docs/drive/drive-os/6.0.9/public/drive-os-tensorrt/api-reference/docs/python/infer/Core/ExecutionContext.html#tensorrt.IExecutionContext.get_binding_shape\n",
        "            # https://docs.nvidia.com/deeplearning/tensorrt/api/python_api/infer/Core/Engine.html\n",
        "\n",
        "            # if engine.binding_is_input(binding):\n",
        "            # The modes can be TensorIOMode.OUTPUT, TensorIOMode.INPUT, TensorIOMode.NONE,\n",
        "            # https://docs.nvidia.com/deeplearning/tensorrt/api/python_api/infer/Core/Engine.html\n",
        "\n",
        "            if self.engine.get_tensor_mode(binding) == trt.TensorIOMode.INPUT:\n",
        "                inputs.append({'name': binding_name, 'host': host_mem, 'device': device_mem})\n",
        "            else:\n",
        "                outputs.append({'name': binding_name, 'host': host_mem, 'device': device_mem})\n",
        "\n",
        "        return inputs, outputs, bindings, stream\n",
        "\n",
        "    def prepare_input_data(self, input_data: np.ndarray):\n",
        "        # Copy input data to the host memory\n",
        "        np.copyto(self.inputs[0]['host'], input_data.ravel())\n",
        "\n",
        "        # Set tensor addresses for inputs and outputs\n",
        "        for inp in self.inputs:\n",
        "            self.context.set_tensor_address(inp['name'], int(inp['device']))\n",
        "        for out in self.outputs:\n",
        "            self.context.set_tensor_address(out['name'], int(out['device']))\n",
        "\n",
        "    def do_inference(self):\n",
        "        # Transfer data from CPU to GPU\n",
        "        [cuda.memcpy_htod_async(inp['device'], inp['host'], self.stream) for inp in self.inputs]\n",
        "\n",
        "        # Run inference\n",
        "        self.context.execute_async_v3(stream_handle=self.stream.handle)\n",
        "\n",
        "        # Transfer predictions back from the GPU.\n",
        "        [cuda.memcpy_dtoh_async(out['host'], out['device'], self.stream) for out in self.outputs]\n",
        "\n",
        "        # Synchronize the stream\n",
        "        self.stream.synchronize()\n",
        "\n",
        "        # Return only the host outputs.\n",
        "        return [out['host'] for out in self.outputs]\n"
      ],
      "metadata": {
        "id": "pRnRu_p3Gl4b"
      },
      "execution_count": 112,
      "outputs": []
    },
    {
      "cell_type": "code",
      "source": [
        "# Inference for one input\n",
        "engine_path = \"/content/model.engine\"\n",
        "trt_engine = trtEngineInference(engine_path)\n",
        "\n",
        "input_shape = (1, 10)  # Batch size of 1, 10 features\n",
        "input_data = np.random.rand(*input_shape).astype(np.float32)\n",
        "trt_engine.prepare_input_data(input_data)\n",
        "output_data = trt_engine.do_inference()\n",
        "output_data"
      ],
      "metadata": {
        "colab": {
          "base_uri": "https://localhost:8080/"
        },
        "id": "DBI8djNAHpcF",
        "outputId": "78778243-a8d9-4a3f-9337-6c8c4039078d"
      },
      "execution_count": 113,
      "outputs": [
        {
          "output_type": "execute_result",
          "data": {
            "text/plain": [
              "[array([0.19997464], dtype=float32)]"
            ]
          },
          "metadata": {},
          "execution_count": 113
        }
      ]
    },
    {
      "cell_type": "markdown",
      "source": [
        "\n",
        "## Measure inference speed"
      ],
      "metadata": {
        "id": "wVREAqdnH-Ju"
      }
    },
    {
      "cell_type": "code",
      "source": [
        "# Note how this little code block is similar to the one done previously for the pytorch model\n",
        "num_iterations = 1000\n",
        "total_time = 0.0\n",
        "input_shape = (1, 10)\n",
        "\n",
        "for i in range(num_iterations):\n",
        "    input_data = np.random.rand(*input_shape).astype(np.float32)\n",
        "    trt_engine.prepare_input_data(input_data)\n",
        "    tik = time.time()\n",
        "    output_data = trt_engine.do_inference()\n",
        "    tok = time.time()\n",
        "    total_time += tok - tik\n",
        "\n",
        "tensorrt_fps = num_iterations / total_time\n",
        "print(f\"TensorRT FPS: {tensorrt_fps:.2f}\")"
      ],
      "metadata": {
        "colab": {
          "base_uri": "https://localhost:8080/"
        },
        "id": "m1vqeX2sHsrs",
        "outputId": "6ba0f76c-5457-4fd6-e3a9-02da1cecd887"
      },
      "execution_count": 114,
      "outputs": [
        {
          "output_type": "stream",
          "name": "stdout",
          "text": [
            "TensorRT FPS: 30320.34\n"
          ]
        }
      ]
    },
    {
      "cell_type": "code",
      "source": [],
      "metadata": {
        "id": "6cNVpSjPHqt-"
      },
      "execution_count": 114,
      "outputs": []
    },
    {
      "cell_type": "code",
      "source": [],
      "metadata": {
        "id": "B_bqxNSmHqmn"
      },
      "execution_count": 114,
      "outputs": []
    },
    {
      "cell_type": "markdown",
      "source": [
        "# Plot the speedup!"
      ],
      "metadata": {
        "id": "cHwmXQ5mJ0zP"
      }
    },
    {
      "cell_type": "code",
      "source": [
        "import matplotlib.pyplot as plt\n",
        "\n",
        "values = [tensorrt_fps, pytorch_fps]\n",
        "labels = ['TensorRT', 'PyTorch']\n",
        "\n",
        "fig, ax = plt.subplots(figsize=(8, 6), dpi = 100)\n",
        "ax.bar(labels, values)\n",
        "\n",
        "ax.set_title(f'Inference Speed Comparison \\n{tensorrt_fps/pytorch_fps :.2f}x speedup with TensorRT!')\n",
        "ax.set_xlabel('Framework')\n",
        "ax.set_ylabel('FPS')\n",
        "\n",
        "plt.show()"
      ],
      "metadata": {
        "colab": {
          "base_uri": "https://localhost:8080/",
          "height": 714
        },
        "id": "rGkzD5_xHqgq",
        "outputId": "cbe747e3-d680-413c-d2f9-e396f8f80b2c"
      },
      "execution_count": 115,
      "outputs": [
        {
          "output_type": "stream",
          "name": "stderr",
          "text": [
            "/usr/local/lib/python3.10/dist-packages/google/colab/_variable_inspector.py:27: UserWarning: pagelocked_host_allocation in out-of-thread context could not be cleaned up\n",
            "  globals().clear()\n",
            "/usr/local/lib/python3.10/dist-packages/google/colab/_variable_inspector.py:27: UserWarning: device_allocation in out-of-thread context could not be cleaned up\n",
            "  globals().clear()\n",
            "/usr/local/lib/python3.10/dist-packages/google/colab/_variable_inspector.py:27: UserWarning: stream in out-of-thread context could not be cleaned up\n",
            "  globals().clear()\n"
          ]
        },
        {
          "output_type": "display_data",
          "data": {
            "text/plain": [
              "<Figure size 800x600 with 1 Axes>"
            ],
            "image/png": "[encoded data removed]"
          },
          "metadata": {}
        }
      ]
    },
    {
      "cell_type": "code",
      "source": [],
      "metadata": {
        "id": "-CmBwiQMJ3do"
      },
      "execution_count": 115,
      "outputs": []
    }
  ]
}